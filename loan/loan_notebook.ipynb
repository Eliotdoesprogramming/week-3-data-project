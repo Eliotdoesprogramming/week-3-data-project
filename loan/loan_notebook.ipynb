{
 "metadata": {
  "language_info": {
   "codemirror_mode": {
    "name": "ipython",
    "version": 3
   },
   "file_extension": ".py",
   "mimetype": "text/x-python",
   "name": "python",
   "nbconvert_exporter": "python",
   "pygments_lexer": "ipython3",
   "version": "3.9.5"
  },
  "orig_nbformat": 4,
  "kernelspec": {
   "name": "python3",
   "display_name": "Python 3.9.5 64-bit ('.venv': pipenv)"
  },
  "interpreter": {
   "hash": "2444eb54614e704dc47f87016a7192bf4fd7f4d409e01e5cdc94fe1dee64a9a4"
  }
 },
 "nbformat": 4,
 "nbformat_minor": 2,
 "cells": [
  {
   "cell_type": "code",
   "execution_count": 2,
   "metadata": {},
   "outputs": [],
   "source": [
    "import pandas as pd\n",
    "import numpy as np\n",
    "import scipy\n",
    "import sklearn\n",
    "import altair as alt"
   ]
  },
  {
   "cell_type": "code",
   "execution_count": 18,
   "metadata": {},
   "outputs": [
    {
     "output_type": "error",
     "ename": "TypeError",
     "evalue": "concat() got multiple values for argument 'axis'",
     "traceback": [
      "\u001b[0;31m---------------------------------------------------------------------------\u001b[0m",
      "\u001b[0;31mTypeError\u001b[0m                                 Traceback (most recent call last)",
      "\u001b[0;32m<ipython-input-18-bf4adec359d8>\u001b[0m in \u001b[0;36m<module>\u001b[0;34m\u001b[0m\n\u001b[1;32m      1\u001b[0m \u001b[0mdf_loan_test\u001b[0m \u001b[0;34m=\u001b[0m \u001b[0mpd\u001b[0m\u001b[0;34m.\u001b[0m\u001b[0mread_csv\u001b[0m\u001b[0;34m(\u001b[0m\u001b[0;34m'loan_test.csv'\u001b[0m\u001b[0;34m)\u001b[0m\u001b[0;34m\u001b[0m\u001b[0;34m\u001b[0m\u001b[0m\n\u001b[1;32m      2\u001b[0m \u001b[0mdf_loan_train\u001b[0m \u001b[0;34m=\u001b[0m \u001b[0mpd\u001b[0m\u001b[0;34m.\u001b[0m\u001b[0mread_csv\u001b[0m\u001b[0;34m(\u001b[0m\u001b[0;34m'loan_train.csv'\u001b[0m\u001b[0;34m)\u001b[0m\u001b[0;34m\u001b[0m\u001b[0;34m\u001b[0m\u001b[0m\n\u001b[0;32m----> 3\u001b[0;31m \u001b[0mdf_loan\u001b[0m\u001b[0;34m=\u001b[0m\u001b[0mpd\u001b[0m\u001b[0;34m.\u001b[0m\u001b[0mconcat\u001b[0m\u001b[0;34m(\u001b[0m\u001b[0mdf_loan_test\u001b[0m\u001b[0;34m,\u001b[0m\u001b[0mdf_loan_train\u001b[0m\u001b[0;34m,\u001b[0m\u001b[0maxis\u001b[0m\u001b[0;34m=\u001b[0m\u001b[0;34m[\u001b[0m\u001b[0;36m1\u001b[0m\u001b[0;34m]\u001b[0m\u001b[0;34m)\u001b[0m\u001b[0;34m\u001b[0m\u001b[0;34m\u001b[0m\u001b[0m\n\u001b[0m",
      "\u001b[0;31mTypeError\u001b[0m: concat() got multiple values for argument 'axis'"
     ]
    }
   ],
   "source": [
    "df_loan_test = pd.read_csv('loan_test.csv')\n",
    "df_loan_train = pd.read_csv('loan_train.csv')"
   ]
  },
  {
   "cell_type": "code",
   "execution_count": 4,
   "metadata": {},
   "outputs": [
    {
     "output_type": "execute_result",
     "data": {
      "text/plain": [
       "       ApplicantIncome  CoapplicantIncome  LoanAmount  Loan_Amount_Term  \\\n",
       "count       614.000000         614.000000  592.000000         600.00000   \n",
       "mean       5403.459283        1621.245798  146.412162         342.00000   \n",
       "std        6109.041673        2926.248369   85.587325          65.12041   \n",
       "min         150.000000           0.000000    9.000000          12.00000   \n",
       "25%        2877.500000           0.000000  100.000000         360.00000   \n",
       "50%        3812.500000        1188.500000  128.000000         360.00000   \n",
       "75%        5795.000000        2297.250000  168.000000         360.00000   \n",
       "max       81000.000000       41667.000000  700.000000         480.00000   \n",
       "\n",
       "       Credit_History  \n",
       "count      564.000000  \n",
       "mean         0.842199  \n",
       "std          0.364878  \n",
       "min          0.000000  \n",
       "25%          1.000000  \n",
       "50%          1.000000  \n",
       "75%          1.000000  \n",
       "max          1.000000  "
      ],
      "text/html": "<div>\n<style scoped>\n    .dataframe tbody tr th:only-of-type {\n        vertical-align: middle;\n    }\n\n    .dataframe tbody tr th {\n        vertical-align: top;\n    }\n\n    .dataframe thead th {\n        text-align: right;\n    }\n</style>\n<table border=\"1\" class=\"dataframe\">\n  <thead>\n    <tr style=\"text-align: right;\">\n      <th></th>\n      <th>ApplicantIncome</th>\n      <th>CoapplicantIncome</th>\n      <th>LoanAmount</th>\n      <th>Loan_Amount_Term</th>\n      <th>Credit_History</th>\n    </tr>\n  </thead>\n  <tbody>\n    <tr>\n      <th>count</th>\n      <td>614.000000</td>\n      <td>614.000000</td>\n      <td>592.000000</td>\n      <td>600.00000</td>\n      <td>564.000000</td>\n    </tr>\n    <tr>\n      <th>mean</th>\n      <td>5403.459283</td>\n      <td>1621.245798</td>\n      <td>146.412162</td>\n      <td>342.00000</td>\n      <td>0.842199</td>\n    </tr>\n    <tr>\n      <th>std</th>\n      <td>6109.041673</td>\n      <td>2926.248369</td>\n      <td>85.587325</td>\n      <td>65.12041</td>\n      <td>0.364878</td>\n    </tr>\n    <tr>\n      <th>min</th>\n      <td>150.000000</td>\n      <td>0.000000</td>\n      <td>9.000000</td>\n      <td>12.00000</td>\n      <td>0.000000</td>\n    </tr>\n    <tr>\n      <th>25%</th>\n      <td>2877.500000</td>\n      <td>0.000000</td>\n      <td>100.000000</td>\n      <td>360.00000</td>\n      <td>1.000000</td>\n    </tr>\n    <tr>\n      <th>50%</th>\n      <td>3812.500000</td>\n      <td>1188.500000</td>\n      <td>128.000000</td>\n      <td>360.00000</td>\n      <td>1.000000</td>\n    </tr>\n    <tr>\n      <th>75%</th>\n      <td>5795.000000</td>\n      <td>2297.250000</td>\n      <td>168.000000</td>\n      <td>360.00000</td>\n      <td>1.000000</td>\n    </tr>\n    <tr>\n      <th>max</th>\n      <td>81000.000000</td>\n      <td>41667.000000</td>\n      <td>700.000000</td>\n      <td>480.00000</td>\n      <td>1.000000</td>\n    </tr>\n  </tbody>\n</table>\n</div>"
     },
     "metadata": {},
     "execution_count": 4
    }
   ],
   "source": [
    "df_loan_train.describe()"
   ]
  },
  {
   "cell_type": "code",
   "execution_count": 14,
   "metadata": {},
   "outputs": [
    {
     "output_type": "stream",
     "name": "stdout",
     "text": [
      "<class 'pandas.core.frame.DataFrame'>\nRangeIndex: 614 entries, 0 to 613\nData columns (total 13 columns):\n #   Column             Non-Null Count  Dtype  \n---  ------             --------------  -----  \n 0   Loan_ID            614 non-null    object \n 1   Gender             601 non-null    object \n 2   Married            611 non-null    object \n 3   Dependents         599 non-null    object \n 4   Education          614 non-null    object \n 5   Self_Employed      582 non-null    object \n 6   ApplicantIncome    614 non-null    int64  \n 7   CoapplicantIncome  614 non-null    float64\n 8   LoanAmount         592 non-null    float64\n 9   Loan_Amount_Term   600 non-null    float64\n 10  Credit_History     564 non-null    float64\n 11  Property_Area      614 non-null    object \n 12  Loan_Status        614 non-null    object \ndtypes: float64(4), int64(1), object(8)\nmemory usage: 62.5+ KB\n"
     ]
    }
   ],
   "source": [
    "df_loan_train.info()"
   ]
  },
  {
   "cell_type": "code",
   "execution_count": 15,
   "metadata": {},
   "outputs": [
    {
     "output_type": "stream",
     "name": "stdout",
     "text": [
      "<class 'pandas.core.frame.DataFrame'>\nRangeIndex: 367 entries, 0 to 366\nData columns (total 12 columns):\n #   Column             Non-Null Count  Dtype  \n---  ------             --------------  -----  \n 0   Loan_ID            367 non-null    object \n 1   Gender             356 non-null    object \n 2   Married            367 non-null    object \n 3   Dependents         357 non-null    object \n 4   Education          367 non-null    object \n 5   Self_Employed      344 non-null    object \n 6   ApplicantIncome    367 non-null    int64  \n 7   CoapplicantIncome  367 non-null    int64  \n 8   LoanAmount         362 non-null    float64\n 9   Loan_Amount_Term   361 non-null    float64\n 10  Credit_History     338 non-null    float64\n 11  Property_Area      367 non-null    object \ndtypes: float64(3), int64(2), object(7)\nmemory usage: 34.5+ KB\n"
     ]
    }
   ],
   "source": [
    "df_loan_test.info()"
   ]
  },
  {
   "cell_type": "code",
   "execution_count": null,
   "metadata": {},
   "outputs": [],
   "source": []
  }
 ]
}